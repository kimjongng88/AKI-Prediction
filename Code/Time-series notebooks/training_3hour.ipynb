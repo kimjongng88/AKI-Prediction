{
 "cells": [
  {
   "cell_type": "code",
   "execution_count": 1,
   "metadata": {},
   "outputs": [],
   "source": [
    "# Set transformer cache to \"./.transformer_cache\"\n",
    "import os\n",
    "os.environ['TRANSFORMERS_CACHE'] = './cache'"
   ]
  },
  {
   "cell_type": "code",
   "execution_count": 1,
   "metadata": {},
   "outputs": [],
   "source": [
    "import pandas as pd\n",
    "import numpy as np\n",
    "from sklearn.preprocessing import LabelEncoder\n",
    "import torch\n",
    "import torch.nn as nn\n",
    "import torch.optim as optim\n",
    "from torch.utils.data import TensorDataset, DataLoader\n",
    "from transformers import TimeSeriesTransformerConfig, TimeSeriesTransformerModel, TimeSeriesTransformerForPrediction\n",
    "from transformers import AdamW\n",
    "from sklearn.metrics import roc_auc_score, f1_score"
   ]
  },
  {
   "cell_type": "code",
   "execution_count": 2,
   "metadata": {},
   "outputs": [
    {
     "data": {
      "text/html": [
       "<div>\n",
       "<style scoped>\n",
       "    .dataframe tbody tr th:only-of-type {\n",
       "        vertical-align: middle;\n",
       "    }\n",
       "\n",
       "    .dataframe tbody tr th {\n",
       "        vertical-align: top;\n",
       "    }\n",
       "\n",
       "    .dataframe thead th {\n",
       "        text-align: right;\n",
       "    }\n",
       "</style>\n",
       "<table border=\"1\" class=\"dataframe\">\n",
       "  <thead>\n",
       "    <tr style=\"text-align: right;\">\n",
       "      <th></th>\n",
       "      <th>admissionid</th>\n",
       "      <th>hour</th>\n",
       "      <th>creatinine</th>\n",
       "      <th>urine</th>\n",
       "      <th>measuredat</th>\n",
       "      <th>baseline_creatinine</th>\n",
       "      <th>temp</th>\n",
       "      <th>heart_rate</th>\n",
       "      <th>systolic_ABP</th>\n",
       "      <th>mean_ABP</th>\n",
       "      <th>...</th>\n",
       "      <th>hematocryt_change</th>\n",
       "      <th>lactate_change</th>\n",
       "      <th>sodium_change</th>\n",
       "      <th>ph_change</th>\n",
       "      <th>stage_6hours</th>\n",
       "      <th>AKI_6hours</th>\n",
       "      <th>icu_days</th>\n",
       "      <th>stage_3hours</th>\n",
       "      <th>AKI</th>\n",
       "      <th>AKI_3hours</th>\n",
       "    </tr>\n",
       "  </thead>\n",
       "  <tbody>\n",
       "    <tr>\n",
       "      <th>0</th>\n",
       "      <td>9</td>\n",
       "      <td>0</td>\n",
       "      <td>103.0</td>\n",
       "      <td>360.0</td>\n",
       "      <td>10800000</td>\n",
       "      <td>94.0</td>\n",
       "      <td>32.966667</td>\n",
       "      <td>79.333333</td>\n",
       "      <td>137.666667</td>\n",
       "      <td>98.333333</td>\n",
       "      <td>...</td>\n",
       "      <td>0.000000</td>\n",
       "      <td>0.0</td>\n",
       "      <td>0.000000</td>\n",
       "      <td>0.00</td>\n",
       "      <td>0.0</td>\n",
       "      <td>0</td>\n",
       "      <td>0.000</td>\n",
       "      <td>0.0</td>\n",
       "      <td>0</td>\n",
       "      <td>0.0</td>\n",
       "    </tr>\n",
       "    <tr>\n",
       "      <th>1</th>\n",
       "      <td>9</td>\n",
       "      <td>1</td>\n",
       "      <td>103.0</td>\n",
       "      <td>185.0</td>\n",
       "      <td>21600000</td>\n",
       "      <td>94.0</td>\n",
       "      <td>34.240000</td>\n",
       "      <td>70.333333</td>\n",
       "      <td>122.666667</td>\n",
       "      <td>85.333333</td>\n",
       "      <td>...</td>\n",
       "      <td>-0.002500</td>\n",
       "      <td>0.0</td>\n",
       "      <td>-0.500000</td>\n",
       "      <td>0.05</td>\n",
       "      <td>0.0</td>\n",
       "      <td>0</td>\n",
       "      <td>0.125</td>\n",
       "      <td>0.0</td>\n",
       "      <td>0</td>\n",
       "      <td>0.0</td>\n",
       "    </tr>\n",
       "    <tr>\n",
       "      <th>2</th>\n",
       "      <td>9</td>\n",
       "      <td>2</td>\n",
       "      <td>103.0</td>\n",
       "      <td>220.0</td>\n",
       "      <td>32400000</td>\n",
       "      <td>94.0</td>\n",
       "      <td>34.883333</td>\n",
       "      <td>79.250000</td>\n",
       "      <td>141.250000</td>\n",
       "      <td>99.250000</td>\n",
       "      <td>...</td>\n",
       "      <td>-0.010000</td>\n",
       "      <td>0.0</td>\n",
       "      <td>2.083333</td>\n",
       "      <td>-0.07</td>\n",
       "      <td>0.0</td>\n",
       "      <td>0</td>\n",
       "      <td>0.250</td>\n",
       "      <td>0.0</td>\n",
       "      <td>0</td>\n",
       "      <td>0.0</td>\n",
       "    </tr>\n",
       "    <tr>\n",
       "      <th>3</th>\n",
       "      <td>9</td>\n",
       "      <td>3</td>\n",
       "      <td>94.0</td>\n",
       "      <td>145.0</td>\n",
       "      <td>43200000</td>\n",
       "      <td>94.0</td>\n",
       "      <td>33.187500</td>\n",
       "      <td>67.750000</td>\n",
       "      <td>126.000000</td>\n",
       "      <td>83.000000</td>\n",
       "      <td>...</td>\n",
       "      <td>0.018333</td>\n",
       "      <td>0.0</td>\n",
       "      <td>-1.000000</td>\n",
       "      <td>0.01</td>\n",
       "      <td>0.0</td>\n",
       "      <td>0</td>\n",
       "      <td>0.375</td>\n",
       "      <td>0.0</td>\n",
       "      <td>0</td>\n",
       "      <td>0.0</td>\n",
       "    </tr>\n",
       "    <tr>\n",
       "      <th>4</th>\n",
       "      <td>9</td>\n",
       "      <td>4</td>\n",
       "      <td>94.0</td>\n",
       "      <td>115.0</td>\n",
       "      <td>54000000</td>\n",
       "      <td>94.0</td>\n",
       "      <td>33.283333</td>\n",
       "      <td>70.000000</td>\n",
       "      <td>133.000000</td>\n",
       "      <td>91.000000</td>\n",
       "      <td>...</td>\n",
       "      <td>-0.023333</td>\n",
       "      <td>0.0</td>\n",
       "      <td>-0.833333</td>\n",
       "      <td>0.00</td>\n",
       "      <td>0.0</td>\n",
       "      <td>0</td>\n",
       "      <td>0.500</td>\n",
       "      <td>0.0</td>\n",
       "      <td>0</td>\n",
       "      <td>0.0</td>\n",
       "    </tr>\n",
       "  </tbody>\n",
       "</table>\n",
       "<p>5 rows × 74 columns</p>\n",
       "</div>"
      ],
      "text/plain": [
       "   admissionid  hour  creatinine  urine  measuredat  baseline_creatinine  \\\n",
       "0            9     0       103.0  360.0    10800000                 94.0   \n",
       "1            9     1       103.0  185.0    21600000                 94.0   \n",
       "2            9     2       103.0  220.0    32400000                 94.0   \n",
       "3            9     3        94.0  145.0    43200000                 94.0   \n",
       "4            9     4        94.0  115.0    54000000                 94.0   \n",
       "\n",
       "        temp  heart_rate  systolic_ABP   mean_ABP  ...  hematocryt_change  \\\n",
       "0  32.966667   79.333333    137.666667  98.333333  ...           0.000000   \n",
       "1  34.240000   70.333333    122.666667  85.333333  ...          -0.002500   \n",
       "2  34.883333   79.250000    141.250000  99.250000  ...          -0.010000   \n",
       "3  33.187500   67.750000    126.000000  83.000000  ...           0.018333   \n",
       "4  33.283333   70.000000    133.000000  91.000000  ...          -0.023333   \n",
       "\n",
       "   lactate_change  sodium_change  ph_change  stage_6hours  AKI_6hours  \\\n",
       "0             0.0       0.000000       0.00           0.0           0   \n",
       "1             0.0      -0.500000       0.05           0.0           0   \n",
       "2             0.0       2.083333      -0.07           0.0           0   \n",
       "3             0.0      -1.000000       0.01           0.0           0   \n",
       "4             0.0      -0.833333       0.00           0.0           0   \n",
       "\n",
       "   icu_days  stage_3hours  AKI  AKI_3hours  \n",
       "0     0.000           0.0    0         0.0  \n",
       "1     0.125           0.0    0         0.0  \n",
       "2     0.250           0.0    0         0.0  \n",
       "3     0.375           0.0    0         0.0  \n",
       "4     0.500           0.0    0         0.0  \n",
       "\n",
       "[5 rows x 74 columns]"
      ]
     },
     "execution_count": 2,
     "metadata": {},
     "output_type": "execute_result"
    }
   ],
   "source": [
    "df = pd.read_csv(\"train_data_3h.csv\")\n",
    "df.head()"
   ]
  },
  {
   "cell_type": "code",
   "execution_count": 3,
   "metadata": {},
   "outputs": [],
   "source": [
    "test_df = pd.read_csv(\"test_data_3h.csv\")"
   ]
  },
  {
   "cell_type": "code",
   "execution_count": 4,
   "metadata": {},
   "outputs": [],
   "source": [
    "# Select the categorical features from the dataframe\n",
    "categorical_features = df.select_dtypes(include=['object', 'bool'])\n",
    "\n",
    "# Apply label encoder to the categorical features\n",
    "label_encoder = LabelEncoder()\n",
    "encoded_categorical_features = categorical_features.apply(label_encoder.fit_transform)\n",
    "\n",
    "# Combine the encoded categorical features with the numerical features\n",
    "numerical_features = df.select_dtypes(include=['float', 'int'])\n",
    "encoded_dataset = pd.concat([numerical_features, encoded_categorical_features], axis=1)\n",
    "\n",
    "# Apply label encoder to test\n",
    "categorical_features_test = test_df.select_dtypes(include=['object', 'bool'])\n",
    "encoded_categorical_features_test = categorical_features_test.apply(label_encoder.fit_transform)\n",
    "numerical_features_test = test_df.select_dtypes(include=['float', 'int'])\n",
    "encoded_dataset_test = pd.concat([numerical_features_test, encoded_categorical_features_test], axis=1)"
   ]
  },
  {
   "cell_type": "code",
   "execution_count": 43,
   "metadata": {},
   "outputs": [
    {
     "name": "stdout",
     "output_type": "stream",
     "text": [
      "Average Length of AKI-6hours: 102.77642206564701\n",
      "Average Count of 0s: 53.44526550953772\n",
      "Average Count of 1s: 49.3311565561093\n",
      "Minimum Length of AKI-6hours: 2\n",
      "Maximum Length of AKI-6hours: 1823\n"
     ]
    }
   ],
   "source": [
    "# Initialize empty lists to store the results\n",
    "average_length = []\n",
    "average_count_0 = []\n",
    "average_count_1 = []\n",
    "\n",
    "# Iterate through the encoded_dataset\n",
    "for admissionid, admissionid_df in encoded_dataset.groupby('admissionid'):\n",
    "    # print(admissionid)\n",
    "    # print(admissionid_df['AKI_6hours'].values)\n",
    "    \n",
    "    # Calculate the average length of AKI-6hours\n",
    "    length = len(admissionid_df['AKI_3hours'].values)\n",
    "    average_length.append(length)\n",
    "    \n",
    "    # Calculate the average count of 0s and 1s\n",
    "    count_0 = np.count_nonzero(admissionid_df['AKI_3hours'].values == 0)\n",
    "    count_1 = np.count_nonzero(admissionid_df['AKI_3hours'].values == 1)\n",
    "    average_count_0.append(count_0)\n",
    "    average_count_1.append(count_1)\n",
    "    \n",
    "# Calculate the overall averages\n",
    "overall_average_length = np.mean(average_length)\n",
    "overall_average_count_0 = np.mean(average_count_0)\n",
    "overall_average_count_1 = np.mean(average_count_1)\n",
    "\n",
    "# Print the results\n",
    "print(\"Average Length of AKI-6hours:\", overall_average_length)\n",
    "print(\"Average Count of 0s:\", overall_average_count_0)\n",
    "print(\"Average Count of 1s:\", overall_average_count_1)\n",
    "print(\"Minimum Length of AKI-6hours:\", np.min(average_length))\n",
    "print(\"Maximum Length of AKI-6hours:\", np.max(average_length))\n",
    "\n",
    "# Use these counts to determine the context length and prediction length\n",
    "# 24 context length, 8 prediction length, 4 lag sequence"
   ]
  },
  {
   "cell_type": "code",
   "execution_count": 74,
   "metadata": {},
   "outputs": [],
   "source": [
    "def make_train_dataset(dataset, context_length, prediction_length, lag_length):\n",
    "    # Initialize empty lists to store the dataset components\n",
    "    all_past_values = []\n",
    "    all_future_values = []\n",
    "    all_past_time_features = []\n",
    "    all_future_time_features = []\n",
    "    all_past_values_mask = []\n",
    "\n",
    "    features_columns = ['creatinine', 'urine', 'measuredat', 'temp', 'heart_rate', 'systolic_ABP', 'mean_ABP', 'dystolic_ABP', 'resp_rate', 'glucose', 'hema', 'calcium', 'kalium', 'ox_sat', 'thrombo', 'bilirubine', 'leukocyten', 'hematocryt', 'lactate', 'sodium', 'ph']\n",
    "    temporal_columns = ['creatinine_change', 'urine_change', 'temp_change', 'heart_rate_change', 'systolic_ABP_change', 'mean_ABP_change', 'dystolic_ABP_change', 'resp_rate_change', 'glucose_change', 'hema_change', 'calcium_change', 'kalium_change', 'ox_sat_change', 'thrombo_change', 'bilirubine_change', 'leukocyten_change', 'hematocryt_change', 'lactate_change', 'sodium_change', 'ph_change']\n",
    "    extra_features = ['has_sepsis', 'has_ventilation', 'nsaid_taken', 'vassopressor_taken', 'acei_taken', 'arb_taken', 'cardiac_surgery', 'traumatology', 'vascular_surgery', 'gastroenterology_surgery', 'lungs_oncology_surgery', 'oncology_surgery', 'neuro_surgery', 'gender_Man', 'gender_Vrouw', 'agegroup', 'weightgroup', 'heightgroup']\n",
    "\n",
    "\n",
    "    # Iterate over admission IDs\n",
    "    for admission_id in dataset['admissionid'].unique():\n",
    "        # Get the sample for the current admission ID\n",
    "        sample_patient = dataset[dataset['admissionid'] == admission_id].copy()\n",
    "\n",
    "        # Check if the sample patient has enough AKI_6hours values\n",
    "        if len(sample_patient['AKI_3hours']) >= context_length + lag_length + prediction_length:\n",
    "            # Split the dataframe into the required components\n",
    "            past_values = sample_patient['AKI_3hours'].values[:context_length + lag_length]\n",
    "            future_values = sample_patient['AKI_3hours'].values[context_length + lag_length:context_length + lag_length + prediction_length]\n",
    "            sample_patient.drop(columns=['admissionid', 'patientid', 'admissionyeargroup', 'comparison_result', 'stage_6hours', 'AKI_6hours', 'stage_3hours', 'AKI', 'AKI_3hours'], inplace=True)\n",
    "            past_time_features = sample_patient[features_columns + extra_features].values[:context_length + lag_length]\n",
    "            future_time_features = sample_patient[features_columns + extra_features].values[context_length + lag_length:context_length + lag_length + prediction_length]\n",
    "            past_values_mask = np.ones(context_length)\n",
    "            \n",
    "            # Append the components to the respective lists\n",
    "            all_past_values.append(past_values)\n",
    "            all_future_values.append(future_values)\n",
    "            all_past_time_features.append(past_time_features)\n",
    "            all_future_time_features.append(future_time_features)\n",
    "            all_past_values_mask.append(past_values_mask)\n",
    "\n",
    "    # Convert the lists to tensors\n",
    "    all_past_values_tensor = torch.tensor(all_past_values, dtype=torch.float32)\n",
    "    all_future_values_tensor = torch.tensor(all_future_values, dtype=torch.float32)\n",
    "    all_past_time_features_tensor = torch.tensor(all_past_time_features, dtype=torch.float32)\n",
    "    all_future_time_features_tensor = torch.tensor(all_future_time_features, dtype=torch.float32)\n",
    "    all_past_values_mask_tensor = torch.tensor(all_past_values_mask, dtype=torch.float32)\n",
    "\n",
    "        # Print the shapes of the tensors\n",
    "    print(\"All Past Values Tensor Shape:\", all_past_values_tensor.shape)\n",
    "    print(\"All Future Values Tensor Shape:\", all_future_values_tensor.shape)\n",
    "    print(\"All Past Time Features Tensor Shape:\", all_past_time_features_tensor.shape)\n",
    "    print(\"All Future Time Features Tensor Shape:\", all_future_time_features_tensor.shape)\n",
    "\n",
    "    return {\"past_values\": all_past_values_tensor, \"future_values\":  all_future_values_tensor, \"past_features\": all_past_time_features_tensor, \"future_features\": all_future_time_features_tensor, \"past_values_mask\": all_past_values_mask_tensor}"
   ]
  },
  {
   "cell_type": "code",
   "execution_count": 75,
   "metadata": {},
   "outputs": [
    {
     "data": {
      "text/plain": [
       "39"
      ]
     },
     "execution_count": 75,
     "metadata": {},
     "output_type": "execute_result"
    }
   ],
   "source": [
    "features_columns = ['creatinine', 'urine', 'measuredat', 'temp', 'heart_rate', 'systolic_ABP', 'mean_ABP', 'dystolic_ABP', 'resp_rate', 'glucose', 'hema', 'calcium', 'kalium', 'ox_sat', 'thrombo', 'bilirubine', 'leukocyten', 'hematocryt', 'lactate', 'sodium', 'ph']\n",
    "temporal_columns = ['creatinine_change', 'urine_change', 'temp_change', 'heart_rate_change', 'systolic_ABP_change', 'mean_ABP_change', 'dystolic_ABP_change', 'resp_rate_change', 'glucose_change', 'hema_change', 'calcium_change', 'kalium_change', 'ox_sat_change', 'thrombo_change', 'bilirubine_change', 'leukocyten_change', 'hematocryt_change', 'lactate_change', 'sodium_change', 'ph_change']\n",
    "extra_features = ['has_sepsis', 'has_ventilation', 'nsaid_taken', 'vassopressor_taken', 'acei_taken', 'arb_taken', 'cardiac_surgery', 'traumatology', 'vascular_surgery', 'gastroenterology_surgery', 'lungs_oncology_surgery', 'oncology_surgery', 'neuro_surgery', 'gender_Man', 'gender_Vrouw', 'agegroup', 'weightgroup', 'heightgroup']\n",
    "len(features_columns + extra_features)"
   ]
  },
  {
   "cell_type": "code",
   "execution_count": 76,
   "metadata": {},
   "outputs": [
    {
     "name": "stdout",
     "output_type": "stream",
     "text": [
      "All Past Values Tensor Shape: torch.Size([2300, 70])\n",
      "All Future Values Tensor Shape: torch.Size([2300, 12])\n",
      "All Past Time Features Tensor Shape: torch.Size([2300, 70, 39])\n",
      "All Future Time Features Tensor Shape: torch.Size([2300, 12, 39])\n",
      "All Past Values Tensor Shape: torch.Size([188, 70])\n",
      "All Future Values Tensor Shape: torch.Size([188, 12])\n",
      "All Past Time Features Tensor Shape: torch.Size([188, 70, 39])\n",
      "All Future Time Features Tensor Shape: torch.Size([188, 12, 39])\n"
     ]
    }
   ],
   "source": [
    "context_length = 64\n",
    "prediction_length = 12\n",
    "lag_length = 6\n",
    "train_data = make_train_dataset(encoded_dataset, context_length, prediction_length, lag_length)\n",
    "test_data = make_train_dataset(encoded_dataset_test, context_length, prediction_length, lag_length)"
   ]
  },
  {
   "cell_type": "code",
   "execution_count": 77,
   "metadata": {},
   "outputs": [],
   "source": [
    "# Create a TensorDataset\n",
    "train_dataset = TensorDataset(train_data[\"past_values\"], train_data[\"future_values\"], train_data[\"past_features\"], train_data[\"future_features\"], train_data[\"past_values_mask\"])\n",
    "test_dataset = TensorDataset(test_data[\"past_values\"], test_data[\"future_values\"], test_data[\"past_features\"], test_data[\"future_features\"], test_data[\"past_values_mask\"])\n",
    "\n",
    "# Create a DataLoader\n",
    "batch_size = 16\n",
    "train_dataloader = DataLoader(train_dataset, batch_size=batch_size, shuffle=True)\n",
    "test_dataloader = DataLoader(test_dataset, batch_size=batch_size)"
   ]
  },
  {
   "cell_type": "code",
   "execution_count": 78,
   "metadata": {},
   "outputs": [
    {
     "name": "stdout",
     "output_type": "stream",
     "text": [
      "TimeSeriesTransformerConfig {\n",
      "  \"activation_dropout\": 0.1,\n",
      "  \"activation_function\": \"gelu\",\n",
      "  \"attention_dropout\": 0.1,\n",
      "  \"cardinality\": [\n",
      "    0\n",
      "  ],\n",
      "  \"context_length\": 64,\n",
      "  \"d_model\": 128,\n",
      "  \"decoder_attention_heads\": 4,\n",
      "  \"decoder_ffn_dim\": 512,\n",
      "  \"decoder_layerdrop\": 0.1,\n",
      "  \"decoder_layers\": 4,\n",
      "  \"distribution_output\": \"student_t\",\n",
      "  \"dropout\": 0.1,\n",
      "  \"embedding_dimension\": [\n",
      "    0\n",
      "  ],\n",
      "  \"encoder_attention_heads\": 2,\n",
      "  \"encoder_ffn_dim\": 512,\n",
      "  \"encoder_layerdrop\": 0.1,\n",
      "  \"encoder_layers\": 4,\n",
      "  \"feature_size\": 45,\n",
      "  \"init_std\": 0.02,\n",
      "  \"input_size\": 1,\n",
      "  \"is_encoder_decoder\": true,\n",
      "  \"lags_sequence\": [\n",
      "    1,\n",
      "    2,\n",
      "    4,\n",
      "    6\n",
      "  ],\n",
      "  \"loss\": \"nll\",\n",
      "  \"model_type\": \"time_series_transformer\",\n",
      "  \"num_dynamic_real_features\": 0,\n",
      "  \"num_parallel_samples\": 100,\n",
      "  \"num_static_categorical_features\": 0,\n",
      "  \"num_static_real_features\": 0,\n",
      "  \"num_time_features\": 39,\n",
      "  \"prediction_length\": 12,\n",
      "  \"scaling\": \"mean\",\n",
      "  \"transformers_version\": \"4.34.0\",\n",
      "  \"use_cache\": true\n",
      "}\n",
      "\n"
     ]
    }
   ],
   "source": [
    "# Initializing a default Time Series Transformer configuration\n",
    "configuration = TimeSeriesTransformerConfig(context_length=context_length, lags_sequence=[1, 2, 4, 6], prediction_length=prediction_length, num_time_features=39,\n",
    "                                            encoder_layers=4, decoder_layers=4, encoder_attention_heads=2, decoder_attention_heads=4,\n",
    "                                            d_model=128, encoder_ffn_dim=512, decoder_ffn_dim=512,\n",
    "\n",
    ")\n",
    "\n",
    "# Randomly initializing a model (with random weights) from the configuration\n",
    "model = TimeSeriesTransformerForPrediction(configuration)\n",
    "\n",
    "# Accessing the model configuration\n",
    "configuration = model.config\n",
    "print(configuration)"
   ]
  },
  {
   "cell_type": "code",
   "execution_count": 79,
   "metadata": {},
   "outputs": [
    {
     "name": "stdout",
     "output_type": "stream",
     "text": [
      "Number of parameters: 1883267\n",
      "Total trainable parameters: 1863811\n"
     ]
    }
   ],
   "source": [
    "# print count of parameters in the model\n",
    "print(\"Number of parameters:\", model.num_parameters())\n",
    "total_params = sum(p.numel() for p in model.parameters() if p.requires_grad)\n",
    "print(\"Total trainable parameters:\", total_params)"
   ]
  },
  {
   "cell_type": "code",
   "execution_count": 80,
   "metadata": {},
   "outputs": [
    {
     "name": "stderr",
     "output_type": "stream",
     "text": [
      "d:\\Documents\\Vrije\\DL2\\DL2\\lib\\site-packages\\transformers\\optimization.py:411: FutureWarning: This implementation of AdamW is deprecated and will be removed in a future version. Use the PyTorch implementation torch.optim.AdamW instead, or set `no_deprecation_warning=True` to disable this warning\n",
      "  warnings.warn(\n"
     ]
    },
    {
     "name": "stdout",
     "output_type": "stream",
     "text": [
      "Epoch 1/10, Loss: -9.9803\n",
      "Epoch 2/10, Loss: -10.0377\n",
      "Epoch 3/10, Loss: -10.0308\n",
      "Epoch 4/10, Loss: -10.0581\n",
      "Epoch 5/10, Loss: -10.0659\n",
      "Epoch 6/10, Loss: -10.0678\n",
      "Epoch 7/10, Loss: -10.0046\n",
      "Epoch 8/10, Loss: -9.9709\n",
      "Epoch 9/10, Loss: -10.0010\n",
      "Epoch 10/10, Loss: -10.0246\n"
     ]
    }
   ],
   "source": [
    "num_epochs = 10\n",
    "learning_rate = 1e-3\n",
    "optimizer = AdamW(model.parameters(), lr=learning_rate)\n",
    "\n",
    "\n",
    "# Training loop\n",
    "for epoch in range(num_epochs):\n",
    "    running_loss = 0.0\n",
    "    total_batches = len(train_dataloader)\n",
    "\n",
    "    # Iterate over the batches\n",
    "    for batch_idx, batch in enumerate(train_dataloader):\n",
    "        past_values_batch, future_values_batch, past_time_features_batch, future_time_features_batch, past_values_mask_batch = batch\n",
    "        \n",
    "        # # Zero the gradients\n",
    "        optimizer.zero_grad()\n",
    "        \n",
    "        # Forward pass\n",
    "        outputs = model(\n",
    "            past_values=past_values_batch,\n",
    "            past_time_features=past_time_features_batch,\n",
    "            past_observed_mask=past_values_mask_batch,\n",
    "            future_values=future_values_batch,\n",
    "            future_time_features=future_time_features_batch,\n",
    "        )\n",
    "        loss = outputs.loss\n",
    "        loss.backward()\n",
    "        \n",
    "        # Update the weights\n",
    "        optimizer.step()\n",
    "        \n",
    "        # Accumulate the loss\n",
    "        running_loss += loss.item()\n",
    "\n",
    "        # Print batch loss\n",
    "        # print(f\"Epoch {epoch+1}/{num_epochs}, Batch {batch_idx+1}/{total_batches}, Loss: {loss.item():.4f}\")\n",
    "    \n",
    "    # Print the average loss for the epoch\n",
    "    average_loss = running_loss / total_batches\n",
    "    print(f\"Epoch {epoch+1}/{num_epochs}, Loss: {average_loss:.4f}\")"
   ]
  },
  {
   "cell_type": "code",
   "execution_count": 55,
   "metadata": {},
   "outputs": [
    {
     "name": "stdout",
     "output_type": "stream",
     "text": [
      "AUC: 0.8075, F1 Score: 0.7616\n"
     ]
    }
   ],
   "source": [
    "all_targets = []\n",
    "all_predictions = []\n",
    "\n",
    "for batch_idx, batch in enumerate(test_dataloader):\n",
    "    past_values_batch, future_values_batch, past_time_features_batch, future_time_features_batch, past_values_mask_batch = batch\n",
    "    outputs = model.generate(\n",
    "        past_values=past_values_batch,\n",
    "        past_time_features=past_time_features_batch,\n",
    "        past_observed_mask=past_values_mask_batch,\n",
    "        future_time_features=future_time_features_batch,\n",
    "    )\n",
    "\n",
    "    mean_prediction = outputs.sequences.mean(dim=1)\n",
    "\n",
    "    # Round the predictions to nearest integer\n",
    "    predictions = torch.round(mean_prediction)\n",
    "    targets = future_values_batch\n",
    "\n",
    "    # Append predictions and targets to lists\n",
    "    all_predictions.append(predictions)\n",
    "    all_targets.append(targets)\n",
    "\n",
    "# Concatenate the predictions and targets tensors\n",
    "all_predictions = torch.cat(all_predictions, dim=0)\n",
    "all_targets = torch.cat(all_targets, dim=0)\n",
    "\n",
    "# Calculate AUC and F1 score\n",
    "auc = roc_auc_score(all_targets.cpu().numpy(), all_predictions.cpu().numpy())\n",
    "f1 = f1_score(all_targets.cpu().numpy(), all_predictions.cpu().numpy(), average='weighted')\n",
    "\n",
    "# Print the AUC and F1 score\n",
    "print(f\"AUC: {auc:.4f}, F1 Score: {f1:.4f}\")"
   ]
  },
  {
   "cell_type": "markdown",
   "metadata": {},
   "source": [
    "Trying without temporal features"
   ]
  },
  {
   "cell_type": "code",
   "execution_count": 57,
   "metadata": {},
   "outputs": [
    {
     "name": "stdout",
     "output_type": "stream",
     "text": [
      "All Past Values Tensor Shape: torch.Size([2300, 70])\n",
      "All Future Values Tensor Shape: torch.Size([2300, 12])\n",
      "All Past Time Features Tensor Shape: torch.Size([2300, 70, 41])\n",
      "All Future Time Features Tensor Shape: torch.Size([2300, 12, 41])\n",
      "All Past Values Tensor Shape: torch.Size([188, 70])\n",
      "All Future Values Tensor Shape: torch.Size([188, 12])\n",
      "All Past Time Features Tensor Shape: torch.Size([188, 70, 41])\n",
      "All Future Time Features Tensor Shape: torch.Size([188, 12, 41])\n"
     ]
    }
   ],
   "source": [
    "train_data_noExtra = make_train_dataset(encoded_dataset, context_length, prediction_length, lag_length)\n",
    "test_data_noExtra = make_train_dataset(encoded_dataset_test, context_length, prediction_length, lag_length)"
   ]
  },
  {
   "cell_type": "code",
   "execution_count": 62,
   "metadata": {},
   "outputs": [],
   "source": [
    "# Create a TensorDataset\n",
    "train_dataset_noExtra = TensorDataset(train_data_noExtra[\"past_values\"], train_data_noExtra[\"future_values\"], train_data_noExtra[\"past_features\"], train_data_noExtra[\"future_features\"], train_data_noExtra[\"past_values_mask\"])\n",
    "test_dataset_noExtra = TensorDataset(test_data_noExtra[\"past_values\"], test_data_noExtra[\"future_values\"], test_data_noExtra[\"past_features\"], test_data_noExtra[\"future_features\"], test_data_noExtra[\"past_values_mask\"])\n",
    "\n",
    "# Create a DataLoader\n",
    "batch_size = 16\n",
    "train_dataloader_noExtra = DataLoader(train_dataset_noExtra, batch_size=batch_size, shuffle=True)\n",
    "test_dataloader_noExtra = DataLoader(test_dataset_noExtra, batch_size=batch_size)"
   ]
  },
  {
   "cell_type": "code",
   "execution_count": 64,
   "metadata": {},
   "outputs": [
    {
     "name": "stdout",
     "output_type": "stream",
     "text": [
      "TimeSeriesTransformerConfig {\n",
      "  \"activation_dropout\": 0.1,\n",
      "  \"activation_function\": \"gelu\",\n",
      "  \"attention_dropout\": 0.1,\n",
      "  \"cardinality\": [\n",
      "    0\n",
      "  ],\n",
      "  \"context_length\": 64,\n",
      "  \"d_model\": 128,\n",
      "  \"decoder_attention_heads\": 4,\n",
      "  \"decoder_ffn_dim\": 512,\n",
      "  \"decoder_layerdrop\": 0.1,\n",
      "  \"decoder_layers\": 4,\n",
      "  \"distribution_output\": \"student_t\",\n",
      "  \"dropout\": 0.1,\n",
      "  \"embedding_dimension\": [\n",
      "    0\n",
      "  ],\n",
      "  \"encoder_attention_heads\": 2,\n",
      "  \"encoder_ffn_dim\": 512,\n",
      "  \"encoder_layerdrop\": 0.1,\n",
      "  \"encoder_layers\": 4,\n",
      "  \"feature_size\": 47,\n",
      "  \"init_std\": 0.02,\n",
      "  \"input_size\": 1,\n",
      "  \"is_encoder_decoder\": true,\n",
      "  \"lags_sequence\": [\n",
      "    1,\n",
      "    2,\n",
      "    4,\n",
      "    6\n",
      "  ],\n",
      "  \"loss\": \"nll\",\n",
      "  \"model_type\": \"time_series_transformer\",\n",
      "  \"num_dynamic_real_features\": 0,\n",
      "  \"num_parallel_samples\": 100,\n",
      "  \"num_static_categorical_features\": 0,\n",
      "  \"num_static_real_features\": 0,\n",
      "  \"num_time_features\": 41,\n",
      "  \"prediction_length\": 12,\n",
      "  \"scaling\": \"mean\",\n",
      "  \"transformers_version\": \"4.34.0\",\n",
      "  \"use_cache\": true\n",
      "}\n",
      "\n"
     ]
    }
   ],
   "source": [
    "# Initializing a default Time Series Transformer configuration\n",
    "configuration2 = TimeSeriesTransformerConfig(context_length=context_length, lags_sequence=[1, 2, 4, 6], prediction_length=prediction_length, num_time_features=41,\n",
    "                                            encoder_layers=4, decoder_layers=4, encoder_attention_heads=2, decoder_attention_heads=4,\n",
    "                                            d_model=128, encoder_ffn_dim=512, decoder_ffn_dim=512,\n",
    "\n",
    ")\n",
    "\n",
    "# Randomly initializing a model (with random weights) from the configuration\n",
    "model2 = TimeSeriesTransformerForPrediction(configuration2)\n",
    "\n",
    "# Accessing the model configuration\n",
    "# configuration = model.config\n",
    "print(configuration2)"
   ]
  },
  {
   "cell_type": "code",
   "execution_count": 65,
   "metadata": {},
   "outputs": [
    {
     "name": "stderr",
     "output_type": "stream",
     "text": [
      "d:\\Documents\\Vrije\\DL2\\DL2\\lib\\site-packages\\transformers\\optimization.py:411: FutureWarning: This implementation of AdamW is deprecated and will be removed in a future version. Use the PyTorch implementation torch.optim.AdamW instead, or set `no_deprecation_warning=True` to disable this warning\n",
      "  warnings.warn(\n"
     ]
    },
    {
     "name": "stdout",
     "output_type": "stream",
     "text": [
      "Epoch 1/10, Loss: -9.9325\n",
      "Epoch 2/10, Loss: -10.0055\n",
      "Epoch 3/10, Loss: -10.0194\n",
      "Epoch 4/10, Loss: -10.0422\n",
      "Epoch 5/10, Loss: -10.0353\n",
      "Epoch 6/10, Loss: -10.0474\n",
      "Epoch 7/10, Loss: -10.0382\n",
      "Epoch 8/10, Loss: -10.0501\n",
      "Epoch 9/10, Loss: -10.0505\n",
      "Epoch 10/10, Loss: -10.0564\n"
     ]
    }
   ],
   "source": [
    "num_epochs = 10\n",
    "learning_rate = 1e-3\n",
    "optimizer = AdamW(model2.parameters(), lr=learning_rate)\n",
    "\n",
    "\n",
    "# Training loop\n",
    "for epoch in range(num_epochs):\n",
    "    running_loss = 0.0\n",
    "    total_batches = len(train_dataloader_noExtra)\n",
    "\n",
    "    # Iterate over the batches\n",
    "    for batch_idx, batch in enumerate(train_dataloader_noExtra):\n",
    "        past_values_batch, future_values_batch, past_time_features_batch, future_time_features_batch, past_values_mask_batch = batch\n",
    "        \n",
    "        # # Zero the gradients\n",
    "        optimizer.zero_grad()\n",
    "        \n",
    "        # Forward pass\n",
    "        outputs = model2(\n",
    "            past_values=past_values_batch,\n",
    "            past_time_features=past_time_features_batch,\n",
    "            past_observed_mask=past_values_mask_batch,\n",
    "            future_values=future_values_batch,\n",
    "            future_time_features=future_time_features_batch,\n",
    "        )\n",
    "        loss = outputs.loss\n",
    "        loss.backward()\n",
    "        \n",
    "        # Update the weights\n",
    "        optimizer.step()\n",
    "        \n",
    "        # Accumulate the loss\n",
    "        running_loss += loss.item()\n",
    "\n",
    "        # Print batch loss\n",
    "        # print(f\"Epoch {epoch+1}/{num_epochs}, Batch {batch_idx+1}/{total_batches}, Loss: {loss.item():.4f}\")\n",
    "    \n",
    "    # Print the average loss for the epoch\n",
    "    average_loss = running_loss / total_batches\n",
    "    print(f\"Epoch {epoch+1}/{num_epochs}, Loss: {average_loss:.4f}\")"
   ]
  },
  {
   "cell_type": "code",
   "execution_count": 66,
   "metadata": {},
   "outputs": [
    {
     "name": "stdout",
     "output_type": "stream",
     "text": [
      "AUC: 0.6717, F1 Score: 0.5103\n"
     ]
    }
   ],
   "source": [
    "all_targets = []\n",
    "all_predictions = []\n",
    "\n",
    "for batch_idx, batch in enumerate(test_dataloader_noExtra):\n",
    "    past_values_batch, future_values_batch, past_time_features_batch, future_time_features_batch, past_values_mask_batch = batch\n",
    "    outputs = model2.generate(\n",
    "        past_values=past_values_batch,\n",
    "        past_time_features=past_time_features_batch,\n",
    "        past_observed_mask=past_values_mask_batch,\n",
    "        future_time_features=future_time_features_batch,\n",
    "    )\n",
    "\n",
    "    mean_prediction = outputs.sequences.mean(dim=1)\n",
    "\n",
    "    # Round the predictions to nearest integer\n",
    "    predictions = torch.round(mean_prediction)\n",
    "    targets = future_values_batch\n",
    "\n",
    "    # Append predictions and targets to lists\n",
    "    all_predictions.append(predictions)\n",
    "    all_targets.append(targets)\n",
    "\n",
    "# Concatenate the predictions and targets tensors\n",
    "all_predictions = torch.cat(all_predictions, dim=0)\n",
    "all_targets = torch.cat(all_targets, dim=0)\n",
    "\n",
    "# Calculate AUC and F1 score\n",
    "auc = roc_auc_score(all_targets.cpu().numpy(), all_predictions.cpu().numpy())\n",
    "f1 = f1_score(all_targets.cpu().numpy(), all_predictions.cpu().numpy(), average='weighted')\n",
    "\n",
    "# Print the AUC and F1 score\n",
    "print(f\"AUC: {auc:.4f}, F1 Score: {f1:.4f}\")"
   ]
  },
  {
   "cell_type": "markdown",
   "metadata": {},
   "source": [
    "Attempting Autoformer"
   ]
  },
  {
   "cell_type": "code",
   "execution_count": 10,
   "metadata": {},
   "outputs": [
    {
     "name": "stdout",
     "output_type": "stream",
     "text": [
      "AutoformerConfig {\n",
      "  \"activation_dropout\": 0.1,\n",
      "  \"activation_function\": \"gelu\",\n",
      "  \"attention_dropout\": 0.1,\n",
      "  \"autocorrelation_factor\": 3,\n",
      "  \"cardinality\": [\n",
      "    0\n",
      "  ],\n",
      "  \"context_length\": 64,\n",
      "  \"d_model\": 128,\n",
      "  \"decoder_attention_heads\": 4,\n",
      "  \"decoder_ffn_dim\": 512,\n",
      "  \"decoder_layerdrop\": 0.1,\n",
      "  \"decoder_layers\": 4,\n",
      "  \"distribution_output\": \"student_t\",\n",
      "  \"dropout\": 0.1,\n",
      "  \"embedding_dimension\": [\n",
      "    0\n",
      "  ],\n",
      "  \"encoder_attention_heads\": 2,\n",
      "  \"encoder_ffn_dim\": 512,\n",
      "  \"encoder_layerdrop\": 0.1,\n",
      "  \"encoder_layers\": 4,\n",
      "  \"feature_size\": 66,\n",
      "  \"init_std\": 0.02,\n",
      "  \"input_size\": 1,\n",
      "  \"is_encoder_decoder\": true,\n",
      "  \"label_length\": 10,\n",
      "  \"lags_sequence\": [\n",
      "    1,\n",
      "    2,\n",
      "    4,\n",
      "    6\n",
      "  ],\n",
      "  \"loss\": \"nll\",\n",
      "  \"model_type\": \"autoformer\",\n",
      "  \"moving_average\": 25,\n",
      "  \"num_dynamic_real_features\": 0,\n",
      "  \"num_parallel_samples\": 100,\n",
      "  \"num_static_categorical_features\": 0,\n",
      "  \"num_static_real_features\": 0,\n",
      "  \"num_time_features\": 60,\n",
      "  \"prediction_length\": 12,\n",
      "  \"scaling\": true,\n",
      "  \"transformers_version\": \"4.34.0\",\n",
      "  \"use_cache\": true\n",
      "}\n",
      "\n"
     ]
    }
   ],
   "source": [
    "from transformers import AutoformerConfig, AutoformerForPrediction\n",
    "\n",
    "# Initializing a default Time Series Transformer configuration\n",
    "configuration = AutoformerConfig(context_length=context_length, lags_sequence=[1, 2, 4, 6], prediction_length=prediction_length, num_time_features=60,\n",
    "                                            encoder_layers=4, decoder_layers=4, encoder_attention_heads=2, decoder_attention_heads=4,\n",
    "                                            d_model=128, encoder_ffn_dim=512, decoder_ffn_dim=512,\n",
    "\n",
    ")\n",
    "\n",
    "# Randomly initializing a model (with random weights) from the configuration\n",
    "af_model = AutoformerForPrediction(configuration)\n",
    "\n",
    "# Accessing the model configuration\n",
    "configuration = af_model.config\n",
    "print(configuration)"
   ]
  },
  {
   "cell_type": "code",
   "execution_count": 12,
   "metadata": {},
   "outputs": [
    {
     "name": "stderr",
     "output_type": "stream",
     "text": [
      "d:\\Documents\\Vrije\\DL2\\DL2\\lib\\site-packages\\transformers\\optimization.py:411: FutureWarning: This implementation of AdamW is deprecated and will be removed in a future version. Use the PyTorch implementation torch.optim.AdamW instead, or set `no_deprecation_warning=True` to disable this warning\n",
      "  warnings.warn(\n"
     ]
    },
    {
     "name": "stdout",
     "output_type": "stream",
     "text": [
      "Epoch 1/10, Loss: 5.2349\n",
      "Epoch 2/10, Loss: 4.9259\n",
      "Epoch 3/10, Loss: 23.1917\n",
      "Epoch 4/10, Loss: 67.1245\n",
      "Epoch 5/10, Loss: 67.9182\n",
      "Epoch 6/10, Loss: 68.1288\n",
      "Epoch 7/10, Loss: 67.1217\n",
      "Epoch 8/10, Loss: 65.2447\n",
      "Epoch 9/10, Loss: 69.2943\n",
      "Epoch 10/10, Loss: 65.1153\n"
     ]
    }
   ],
   "source": [
    "num_epochs = 10\n",
    "learning_rate = 1e-3\n",
    "optimizer = AdamW(af_model.parameters(), lr=learning_rate)\n",
    "\n",
    "\n",
    "# Training loop\n",
    "for epoch in range(num_epochs):\n",
    "    running_loss = 0.0\n",
    "    total_batches = len(train_dataloader)\n",
    "\n",
    "    # Iterate over the batches\n",
    "    for batch_idx, batch in enumerate(train_dataloader):\n",
    "        past_values_batch, future_values_batch, past_time_features_batch, future_time_features_batch, past_values_mask_batch = batch\n",
    "        \n",
    "        # # Zero the gradients\n",
    "        optimizer.zero_grad()\n",
    "        \n",
    "        # Forward pass\n",
    "        outputs = af_model(\n",
    "            past_values=past_values_batch,\n",
    "            past_time_features=past_time_features_batch,\n",
    "            past_observed_mask=past_values_mask_batch,\n",
    "            future_values=future_values_batch,\n",
    "            future_time_features=future_time_features_batch,\n",
    "        )\n",
    "        loss = outputs.loss\n",
    "        loss.backward()\n",
    "        \n",
    "        # Update the weights\n",
    "        optimizer.step()\n",
    "        \n",
    "        # Accumulate the loss\n",
    "        running_loss += loss.item()\n",
    "\n",
    "        # Print batch loss\n",
    "        # print(f\"Epoch {epoch+1}/{num_epochs}, Batch {batch_idx+1}/{total_batches}, Loss: {loss.item():.4f}\")\n",
    "    \n",
    "    # Print the average loss for the epoch\n",
    "    average_loss = running_loss / total_batches\n",
    "    print(f\"Epoch {epoch+1}/{num_epochs}, Loss: {average_loss:.4f}\")"
   ]
  },
  {
   "cell_type": "code",
   "execution_count": 14,
   "metadata": {},
   "outputs": [
    {
     "name": "stdout",
     "output_type": "stream",
     "text": [
      "AUC: 0.5000, F1 Score: 0.0000\n"
     ]
    }
   ],
   "source": [
    "all_targets = []\n",
    "all_predictions = []\n",
    "\n",
    "for batch_idx, batch in enumerate(test_dataloader):\n",
    "    past_values_batch, future_values_batch, past_time_features_batch, future_time_features_batch, past_values_mask_batch = batch\n",
    "    outputs = af_model.generate(\n",
    "        past_values=past_values_batch,\n",
    "        past_time_features=past_time_features_batch,\n",
    "        past_observed_mask=past_values_mask_batch,\n",
    "        future_time_features=future_time_features_batch,\n",
    "    )\n",
    "\n",
    "    mean_prediction = outputs.sequences.mean(dim=1)\n",
    "\n",
    "    # Round the predictions to nearest integer\n",
    "    predictions = torch.round(mean_prediction)\n",
    "    targets = future_values_batch\n",
    "\n",
    "    # Append predictions and targets to lists\n",
    "    all_predictions.append(predictions)\n",
    "    all_targets.append(targets)\n",
    "\n",
    "# Concatenate the predictions and targets tensors\n",
    "all_predictions = torch.cat(all_predictions, dim=0)\n",
    "all_targets = torch.cat(all_targets, dim=0)\n",
    "\n",
    "# Convert other predictions to 0 and 1\n",
    "all_predictions[all_predictions > 1] = 1\n",
    "all_predictions[all_predictions < 0] = 0\n",
    "\n",
    "# Calculate AUC and F1 score\n",
    "auc = roc_auc_score(all_targets.cpu().numpy(), all_predictions.cpu().numpy())\n",
    "f1 = f1_score(all_targets.cpu().numpy(), all_predictions.cpu().numpy(), average='weighted')\n",
    "\n",
    "# Print the AUC and F1 score\n",
    "print(f\"AUC: {auc:.4f}, F1 Score: {f1:.4f}\")"
   ]
  },
  {
   "cell_type": "markdown",
   "metadata": {},
   "source": [
    "Implementing lstm"
   ]
  },
  {
   "cell_type": "code",
   "execution_count": 5,
   "metadata": {},
   "outputs": [],
   "source": [
    "def make_rnn_dataset(dataset, lookback, test=False):\n",
    "    # Initialize empty lists to store the dataset components\n",
    "    all_features = []\n",
    "    all_targets = []\n",
    "    features_columns = ['creatinine', 'urine', 'measuredat', 'temp', 'heart_rate', 'systolic_ABP', 'mean_ABP', 'dystolic_ABP', 'resp_rate', 'glucose', 'hema', 'calcium', 'kalium', 'ox_sat', 'thrombo', 'bilirubine', 'leukocyten', 'hematocryt', 'lactate', 'sodium', 'ph']\n",
    "    temporal_columns = ['creatinine_change', 'urine_change', 'temp_change', 'heart_rate_change', 'systolic_ABP_change', 'mean_ABP_change', 'dystolic_ABP_change', 'resp_rate_change', 'glucose_change', 'hema_change', 'calcium_change', 'kalium_change', 'ox_sat_change', 'thrombo_change', 'bilirubine_change', 'leukocyten_change', 'hematocryt_change', 'lactate_change', 'sodium_change', 'ph_change']\n",
    "    extra_features = ['has_sepsis', 'has_ventilation', 'nsaid_taken', 'vassopressor_taken', 'acei_taken', 'arb_taken', 'cardiac_surgery', 'traumatology', 'vascular_surgery', 'gastroenterology_surgery', 'lungs_oncology_surgery', 'oncology_surgery', 'neuro_surgery', 'gender_Man', 'gender_Vrouw', 'agegroup', 'weightgroup', 'heightgroup']\n",
    "    threshold = 0.3\n",
    "\n",
    "    # Iterate over admission IDs\n",
    "    for admission_id in dataset['admissionid'].unique():\n",
    "        # Get the sample for the current admission ID\n",
    "        sample_patient = dataset[dataset['admissionid'] == admission_id].copy()\n",
    "        counter = 0\n",
    "        for i in range(len(sample_patient['AKI_6hours'])-lookback):\n",
    "            if counter >= 15:\n",
    "                break\n",
    "            feature = sample_patient[features_columns + extra_features].values[i:i+lookback]\n",
    "            target = sample_patient['AKI_6hours'].values[i+1:i+lookback+1]\n",
    "            \n",
    "            ratio = target.sum() / len(target)\n",
    "            # Check if the ratio is within the threshold range\n",
    "            if not test and threshold <= ratio <= 1 - threshold:\n",
    "                # Append the features and the target to the lists\n",
    "                all_features.append(feature)\n",
    "                all_targets.append(target)\n",
    "            if test:\n",
    "                all_features.append(feature)\n",
    "                all_targets.append(target)\n",
    "            counter += 1\n",
    "\n",
    "    # Convert the lists to tensors\n",
    "    all_features_tensor = torch.tensor(all_features, dtype=torch.float32)\n",
    "    all_targets_tensor = torch.tensor(all_targets, dtype=torch.float32)\n",
    " \n",
    "        # Print the shapes of the tensors\n",
    "    print(\"All targets Tensor Shape:\", all_targets_tensor.shape)\n",
    "    print(\"All Features Tensor Shape:\", all_features_tensor.shape)\n",
    "\n",
    "    return all_features_tensor, all_targets_tensor"
   ]
  },
  {
   "cell_type": "code",
   "execution_count": 7,
   "metadata": {},
   "outputs": [
    {
     "data": {
      "text/plain": [
       "39"
      ]
     },
     "execution_count": 7,
     "metadata": {},
     "output_type": "execute_result"
    }
   ],
   "source": [
    "features_columns = ['creatinine', 'urine', 'measuredat', 'temp', 'heart_rate', 'systolic_ABP', 'mean_ABP', 'dystolic_ABP', 'resp_rate', 'glucose', 'hema', 'calcium', 'kalium', 'ox_sat', 'thrombo', 'bilirubine', 'leukocyten', 'hematocryt', 'lactate', 'sodium', 'ph']\n",
    "extra_features = ['has_sepsis', 'has_ventilation', 'nsaid_taken', 'vassopressor_taken', 'acei_taken', 'arb_taken', 'cardiac_surgery', 'traumatology', 'vascular_surgery', 'gastroenterology_surgery', 'lungs_oncology_surgery', 'oncology_surgery', 'neuro_surgery', 'gender_Man', 'gender_Vrouw', 'agegroup', 'weightgroup', 'heightgroup']\n",
    "\n",
    "len(features_columns + extra_features)"
   ]
  },
  {
   "cell_type": "code",
   "execution_count": 7,
   "metadata": {},
   "outputs": [
    {
     "data": {
      "text/plain": [
       "5819"
      ]
     },
     "execution_count": 7,
     "metadata": {},
     "output_type": "execute_result"
    }
   ],
   "source": [
    "# Count the number of admissionids in the encoded_dataset\n",
    "len(encoded_dataset['admissionid'].unique())"
   ]
  },
  {
   "cell_type": "code",
   "execution_count": 6,
   "metadata": {},
   "outputs": [
    {
     "name": "stderr",
     "output_type": "stream",
     "text": [
      "C:\\Users\\dheer\\AppData\\Local\\Temp\\ipykernel_29844\\711099617.py:33: UserWarning: Creating a tensor from a list of numpy.ndarrays is extremely slow. Please consider converting the list to a single numpy.ndarray with numpy.array() before converting to a tensor. (Triggered internally at C:\\cb\\pytorch_1000000000000\\work\\torch\\csrc\\utils\\tensor_new.cpp:248.)\n",
      "  all_features_tensor = torch.tensor(all_features, dtype=torch.float32)\n"
     ]
    },
    {
     "name": "stdout",
     "output_type": "stream",
     "text": [
      "All targets Tensor Shape: torch.Size([3437, 10])\n",
      "All Features Tensor Shape: torch.Size([3437, 10, 39])\n",
      "All targets Tensor Shape: torch.Size([28046, 10])\n",
      "All Features Tensor Shape: torch.Size([28046, 10, 39])\n"
     ]
    }
   ],
   "source": [
    "lstm_train_data = make_rnn_dataset(encoded_dataset, 10)\n",
    "lstm_test_data = make_rnn_dataset(encoded_dataset_test, 10, test=True)"
   ]
  },
  {
   "cell_type": "code",
   "execution_count": 8,
   "metadata": {},
   "outputs": [],
   "source": [
    "class AKIModel(nn.Module):\n",
    "    def __init__(self, input_size, hidden_size, num_layers, output_size, bidirectional=False):\n",
    "        super().__init__()\n",
    "        self.lstm = nn.LSTM(input_size=input_size, hidden_size=hidden_size, num_layers=num_layers, batch_first=True, bidirectional=bidirectional)\n",
    "        if bidirectional:\n",
    "            hidden_size *= 2\n",
    "        self.linear = nn.Linear(hidden_size, output_size)\n",
    "\n",
    "    def forward(self, x):\n",
    "        # x shape: (batch, sequence, features)\n",
    "        output, _ = self.lstm(x)\n",
    "        # output shape: (batch, sequence, hidden_size)\n",
    "        output = self.linear(output)\n",
    "        # output shape: (batch, sequence, output_size)\n",
    "        output = torch.sigmoid(output)\n",
    "        return output"
   ]
  },
  {
   "cell_type": "code",
   "execution_count": 9,
   "metadata": {},
   "outputs": [],
   "source": [
    "input_size = 39\n",
    "hidden_size = 50\n",
    "num_layers = 4\n",
    "output_size = 1\n",
    "\n",
    "lstm_model = AKIModel(input_size, hidden_size, num_layers, output_size, bidirectional=False)"
   ]
  },
  {
   "cell_type": "code",
   "execution_count": 1,
   "metadata": {},
   "outputs": [],
   "source": [
    "# import torch.utils.data as data\n",
    "# # load the model\n",
    "# lstm_model.load_state_dict(torch.load('models/lstm_model_3h'))\n",
    "# test_loader = data.DataLoader(data.TensorDataset(lstm_test_data[0], lstm_test_data[1]), shuffle=False, batch_size=8, pin_memory=True)"
   ]
  },
  {
   "cell_type": "code",
   "execution_count": 11,
   "metadata": {},
   "outputs": [
    {
     "name": "stderr",
     "output_type": "stream",
     "text": [
      "d:\\Documents\\Vrije\\DL2\\DL2\\lib\\site-packages\\transformers\\optimization.py:411: FutureWarning: This implementation of AdamW is deprecated and will be removed in a future version. Use the PyTorch implementation torch.optim.AdamW instead, or set `no_deprecation_warning=True` to disable this warning\n",
      "  warnings.warn(\n"
     ]
    },
    {
     "name": "stdout",
     "output_type": "stream",
     "text": [
      "Epoch 0: train loss 0.1078, test loss 0.4095\n",
      "Epoch 5: train loss 0.0838, test loss 0.4095\n",
      "Epoch 10: train loss 0.0836, test loss 0.4095\n",
      "Epoch 15: train loss 0.0836, test loss 0.4095\n",
      "Epoch 20: train loss 0.0835, test loss 0.4095\n",
      "Epoch 25: train loss 0.0835, test loss 0.4095\n"
     ]
    },
    {
     "data": {
      "image/png": "[encoded data removed]",
      "text/plain": [
       "<Figure size 640x480 with 1 Axes>"
      ]
     },
     "metadata": {},
     "output_type": "display_data"
    }
   ],
   "source": [
    "# Early stopping\n",
    "import numpy as np\n",
    "import torch\n",
    "import torch.nn.functional as F\n",
    "import torch.utils.data as data\n",
    "import matplotlib.pyplot as plt\n",
    "\n",
    "device = torch.device(\"cuda\" if torch.cuda.is_available() else \"cpu\")\n",
    "\n",
    "num_epochs = 10\n",
    "learning_rate = 1e-3\n",
    "optimizer = AdamW(lstm_model.parameters(), lr=learning_rate)\n",
    "loss_fn = F.mse_loss\n",
    "loader = data.DataLoader(data.TensorDataset(lstm_train_data[0], lstm_train_data[1]), shuffle=True, batch_size=8, pin_memory=True)\n",
    "test_loader = data.DataLoader(data.TensorDataset(lstm_test_data[0], lstm_test_data[1]), shuffle=False, batch_size=8, pin_memory=True)\n",
    "lstm_model.to(device)\n",
    "\n",
    "n_epochs = 30\n",
    "train_losses = []\n",
    "test_losses = []\n",
    "\n",
    "best_val_loss = float('inf')\n",
    "patience = 5  # Number of epochs to wait for improvement\n",
    "early_stop_counter = 0\n",
    "\n",
    "for epoch in range(n_epochs):\n",
    "    lstm_model.train()\n",
    "    train_loss = 0.0\n",
    "    for X_batch, y_batch in loader:\n",
    "        X_batch = X_batch.to(device)\n",
    "        y_batch = y_batch.to(device)\n",
    "        y_pred = lstm_model(X_batch)\n",
    "        y_pred = y_pred.squeeze()\n",
    "        loss = loss_fn(y_pred, y_batch)\n",
    "        optimizer.zero_grad()\n",
    "        loss.backward()\n",
    "        optimizer.step()\n",
    "        train_loss += loss.item() * X_batch.size(0)\n",
    "    train_loss /= len(loader.dataset)\n",
    "    train_losses.append(train_loss)\n",
    "\n",
    "    # Validation\n",
    "    lstm_model.eval()\n",
    "    with torch.no_grad():\n",
    "        val_loss = 0.0\n",
    "        for X_val, y_val in test_loader:\n",
    "            X_val = X_val.to(device)\n",
    "            y_val = y_val.to(device)\n",
    "            y_pred = lstm_model(X_val)\n",
    "            y_pred = y_pred.squeeze()\n",
    "            loss = loss_fn(y_pred, y_val)\n",
    "            val_loss += loss.item() * X_val.size(0)\n",
    "        val_loss /= len(test_loader.dataset)\n",
    "    test_losses.append(val_loss)\n",
    "\n",
    "    if epoch % 5 == 0:\n",
    "        print(\"Epoch %d: train loss %.4f, test loss %.4f\" % (epoch, train_loss, val_loss))\n",
    "\n",
    "    # Check for early stopping\n",
    "    if val_loss < best_val_loss:\n",
    "        best_val_loss = val_loss\n",
    "        early_stop_counter = 0\n",
    "    else:\n",
    "        early_stop_counter += 1\n",
    "        if early_stop_counter >= patience:\n",
    "            print(\"Early stopping triggered. No improvement in validation loss for %d epochs.\" % patience)\n",
    "            break\n",
    "\n",
    "# Plot the training and test loss curves\n",
    "plt.plot(range(len(train_losses)), train_losses, label='Train Loss')\n",
    "plt.plot(range(0, len(test_losses) * 5, 5), test_losses, label='Test Loss')\n",
    "plt.xlabel('Epoch')\n",
    "plt.ylabel('Loss')\n",
    "plt.title('Training and Test Loss Curves')\n",
    "plt.legend()\n",
    "plt.show()"
   ]
  },
  {
   "cell_type": "code",
   "execution_count": 13,
   "metadata": {},
   "outputs": [
    {
     "name": "stdout",
     "output_type": "stream",
     "text": [
      "AUC: 0.5200, F1 Score: 0.3867\n"
     ]
    }
   ],
   "source": [
    "lstm_all_targets = []\n",
    "lstm_all_predictions = []\n",
    "\n",
    "for batch_idx, batch in enumerate(test_loader):\n",
    "    lstm_model.eval()\n",
    "    with torch.no_grad():\n",
    "        X_val, y_val = batch\n",
    "        X_val = X_val.to(device)\n",
    "        y_val = y_val.to(device)\n",
    "        y_pred = lstm_model(X_val)\n",
    "        y_pred = y_pred.squeeze()\n",
    "\n",
    "    # Append predictions and targets to lists\n",
    "    lstm_all_predictions.append(y_pred)\n",
    "    lstm_all_targets.append(y_val)\n",
    "\n",
    "# Concatenate the predictions and targets tensors\n",
    "lstm_all_predictions = torch.cat(lstm_all_predictions, dim=0)\n",
    "lstm_all_targets = torch.cat(lstm_all_targets, dim=0)\n",
    "\n",
    "# Flatten the predictions and targets\n",
    "y_true = lstm_all_targets.cpu().numpy().flatten()\n",
    "y_pred = lstm_all_predictions.cpu().numpy().flatten()\n",
    "threshold = 0.5  # Set the threshold for classification\n",
    "y_pred_binary = np.where(y_pred >= threshold, 1, 0)\n",
    "\n",
    "# Calculate AUC and F1 score\n",
    "auc = roc_auc_score(y_true, y_pred_binary)\n",
    "f1 = f1_score(y_true, y_pred_binary)\n",
    "\n",
    "# Print the AUC and F1 score\n",
    "print(f\"AUC: {auc:.4f}, F1 Score: {f1:.4f}\")"
   ]
  },
  {
   "cell_type": "code",
   "execution_count": 14,
   "metadata": {},
   "outputs": [
    {
     "name": "stdout",
     "output_type": "stream",
     "text": [
      "AUC: 0.5200, F1 Score: 0.3867\n",
      "Confusion Matrix:\n",
      "[[102070  97469]\n",
      " [ 38160  42761]]\n",
      "Precision: 0.3049\n",
      "Recall: 0.5284\n"
     ]
    }
   ],
   "source": [
    "from sklearn.metrics import roc_auc_score, roc_curve, confusion_matrix, precision_score, recall_score\n",
    "\n",
    "y_true = lstm_all_targets.cpu().numpy()\n",
    "threshold = 0.5  # Set the threshold for classification\n",
    "y_pred_binary = np.where(lstm_all_predictions.cpu() >= threshold, 1, 0)\n",
    "# Convert y_true to int\n",
    "y_true = y_true.astype(int)\n",
    "# flatten y_true and y_pred_binary\n",
    "y_true = y_true.flatten()\n",
    "y_pred_binary = y_pred_binary.flatten()\n",
    "confusion_mat = confusion_matrix(y_true, y_pred_binary)\n",
    "precision = precision_score(y_true, y_pred_binary)\n",
    "recall = recall_score(y_true, y_pred_binary)\n",
    "\n",
    "# Print the AUC, F1 score, confusion matrix, precision, and recall\n",
    "print(f\"AUC: {auc:.4f}, F1 Score: {f1:.4f}\")\n",
    "print(\"Confusion Matrix:\")\n",
    "print(confusion_mat)\n",
    "print(f\"Precision: {precision:.4f}\")\n",
    "print(f\"Recall: {recall:.4f}\")"
   ]
  },
  {
   "cell_type": "code",
   "execution_count": 12,
   "metadata": {},
   "outputs": [],
   "source": [
    "save_path = \"models/lstm_model_3h\"\n",
    "torch.save(lstm_model.state_dict(), save_path)"
   ]
  }
 ],
 "metadata": {
  "kernelspec": {
   "display_name": "Python 3",
   "language": "python",
   "name": "python3"
  },
  "language_info": {
   "codemirror_mode": {
    "name": "ipython",
    "version": 3
   },
   "file_extension": ".py",
   "mimetype": "text/x-python",
   "name": "python",
   "nbconvert_exporter": "python",
   "pygments_lexer": "ipython3",
   "version": "3.9.16"
  }
 },
 "nbformat": 4,
 "nbformat_minor": 2
}
